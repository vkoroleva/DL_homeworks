{
  "cells": [
    {
      "cell_type": "code",
      "execution_count": 2,
      "metadata": {
        "id": "3MeKai5Xj6eX"
      },
      "outputs": [],
      "source": [
        "import numpy as np"
      ]
    },
    {
      "cell_type": "markdown",
      "metadata": {
        "id": "wwlFrG-Tj6eY"
      },
      "source": [
        "**Module** is an abstract class which defines fundamental methods necessary for a training a neural network. You do not need to change anything here, just read the comments."
      ]
    },
    {
      "cell_type": "code",
      "execution_count": 3,
      "metadata": {
        "id": "W8BLmtZ3j6eZ"
      },
      "outputs": [],
      "source": [
        "class Module(object):\n",
        "    \"\"\"\n",
        "    Basically, you can think of a module as of a something (black box)\n",
        "    which can process `input` data and produce `ouput` data.\n",
        "    This is like applying a function which is called `forward`:\n",
        "\n",
        "        output = module.forward(input)\n",
        "\n",
        "    The module should be able to perform a backward pass: to differentiate the `forward` function.\n",
        "    More, it should be able to differentiate it if is a part of chain (chain rule).\n",
        "    The latter implies there is a gradient from previous step of a chain rule.\n",
        "\n",
        "        gradInput = module.backward(input, gradOutput)\n",
        "\n",
        "        В принципе, вы можете представить себе модуль как нечто (черный ящик)\n",
        "    , которое может обрабатывать \"входные\" данные и выдавать \"выходные\" данные.\n",
        "    Это похоже на применение функции, которая называется `forward`:\n",
        "\n",
        "        output = модуль.forward (ввод)\n",
        "\n",
        "    Модуль должен уметь выполнять обратный переход: чтобы отличить функцию \"forward\".\n",
        "    Более того, он должен уметь отличать ее, если она является частью цепочки (правило цепочки).\n",
        "    Последнее подразумевает, что существует отклонение от предыдущего шага правила цепочки.\n",
        "\n",
        "        gradInput = модуль.обратный(ввод, gradOutput)\n",
        "\n",
        "    \"\"\"\n",
        "    def __init__ (self):\n",
        "        self.output = None\n",
        "        self.gradInput = None\n",
        "        self.training = True\n",
        "\n",
        "    def forward(self, input):\n",
        "        \"\"\"\n",
        "        Takes an input object, and computes the corresponding output of the module.\n",
        "\n",
        "        Принимает входной объект и вычисляет соответствующий выходной сигнал модуля.\n",
        "\n",
        "        \"\"\"\n",
        "        return self.updateOutput(input)\n",
        "\n",
        "    def backward(self,input, gradOutput):\n",
        "        \"\"\"\n",
        "        Performs a backpropagation step through the module, with respect to the given input.\n",
        "\n",
        "        This includes\n",
        "         - computing a gradient w.r.t. `input` (is needed for further backprop),\n",
        "         - computing a gradient w.r.t. parameters (to update parameters while optimizing).\n",
        "\n",
        "        Выполняет шаг обратного распространения по модулю в соответствии с заданными входными данными.\n",
        "\n",
        "        Это включает\n",
        "         - вычисление градиента с использованием `входных данных\" (необходимо для дальнейшей обратной обработки),\n",
        "         - вычисление градиента с параметрами (для обновления параметров при оптимизации).\n",
        "        \"\"\"\n",
        "        self.updateGradInput(input, gradOutput)\n",
        "        self.accGradParameters(input, gradOutput)\n",
        "        return self.gradInput\n",
        "\n",
        "\n",
        "    def updateOutput(self, input):\n",
        "        \"\"\"\n",
        "        Computes the output using the current parameter set of the class and input.\n",
        "        This function returns the result which is stored in the `output` field.\n",
        "\n",
        "        Make sure to both store the data in `output` field and return it.\n",
        "\n",
        "        Вычисляет выходные данные, используя текущий набор параметров класса и входные данные.\n",
        "        Эта функция возвращает результат, который сохраняется в поле \"Выходные данные\".\n",
        "\n",
        "        Убедитесь в том, что вы сохранили данные как в поле \"вывод\", так и вернули их.\n",
        "        \"\"\"\n",
        "\n",
        "        # The easiest case:\n",
        "\n",
        "        # self.output = input\n",
        "        # return self.output\n",
        "\n",
        "        pass\n",
        "\n",
        "    def updateGradInput(self, input, gradOutput):\n",
        "        \"\"\"\n",
        "        Computing the gradient of the module with respect to its own input.\n",
        "        This is returned in `gradInput`. Also, the `gradInput` state variable is updated accordingly.\n",
        "\n",
        "        The shape of `gradInput` is always the same as the shape of `input`.\n",
        "\n",
        "        Make sure to both store the gradients in `gradInput` field and return it.\n",
        "\n",
        "        Вычисление градиента модуля относительно его собственных входных данных.\n",
        "        Это значение возвращается в `gradInput`. Кроме того, переменная состояния `gradInput` обновляется соответствующим образом.\n",
        "\n",
        "        Форма `gradInput` всегда совпадает с формой `input`.\n",
        "\n",
        "        Убедитесь, что градиенты сохраняются в поле `gradInput` и возвращаются обратно.\n",
        "        \"\"\"\n",
        "\n",
        "        # The easiest case:\n",
        "\n",
        "        # self.gradInput = gradOutput\n",
        "        # return self.gradInput\n",
        "\n",
        "        pass\n",
        "\n",
        "    def accGradParameters(self, input, gradOutput):\n",
        "        \"\"\"\n",
        "        Computing the gradient of the module with respect to its own parameters.\n",
        "        No need to override if module has no parameters (e.g. ReLU).\n",
        "\n",
        "        Вычисление градиента модуля относительно его собственных параметров.\n",
        "        Нет необходимости переопределять, если модуль не имеет параметров (например, ReLU).\n",
        "        \"\"\"\n",
        "        pass\n",
        "\n",
        "    def zeroGradParameters(self):\n",
        "        \"\"\"\n",
        "        Zeroes `gradParams` variable if the module has params.\n",
        "\n",
        "        Обнуляет переменную gradParams, если в модуле есть параметры.\n",
        "\n",
        "        \"\"\"\n",
        "        pass\n",
        "\n",
        "    def getParameters(self):\n",
        "        \"\"\"\n",
        "        Returns a list with its parameters.\n",
        "        If the module does not have parameters return empty list.\n",
        "\n",
        "        Возвращает список с его параметрами.\n",
        "        Если модуль не имеет параметров, то возвращается пустой список.\n",
        "        \"\"\"\n",
        "        return []\n",
        "\n",
        "    def getGradParameters(self):\n",
        "        \"\"\"\n",
        "        Returns a list with gradients with respect to its parameters.\n",
        "        If the module does not have parameters return empty list.\n",
        "\n",
        "        Возвращает список с градиентами относительно его параметров.\n",
        "        Если модуль не имеет параметров, возвращает пустой список.\n",
        "        \"\"\"\n",
        "        return []\n",
        "\n",
        "    def train(self):\n",
        "        \"\"\"\n",
        "        Sets training mode for the module.\n",
        "        Training and testing behaviour differs for Dropout, BatchNorm.\n",
        "\n",
        "        Устанавливает режим обучения для модуля.\n",
        "        Поведение при обучении и тестировании отличается в случае отсева и пакетной нормы.\n",
        "        \"\"\"\n",
        "        self.training = True\n",
        "\n",
        "    def evaluate(self):\n",
        "        \"\"\"\n",
        "        Sets evaluation mode for the module.\n",
        "        Training and testing behaviour differs for Dropout, BatchNorm.\n",
        "\n",
        "        Устанавливает режим оценки для модуля.\n",
        "        Поведение при обучении и тестировании отличается в зависимости от отсева и пакетной нормы.\n",
        "        \"\"\"\n",
        "        self.training = False\n",
        "\n",
        "    def __repr__(self):\n",
        "        \"\"\"\n",
        "        Pretty printing. Should be overrided in every module if you want\n",
        "        to have readable description.\n",
        "\n",
        "        Красивая печать. Должно быть переопределено в каждом модуле, если вы хотите\n",
        "        чтобы иметь удобочитаемое описание.\n",
        "        \"\"\"\n",
        "        return \"Module\""
      ]
    },
    {
      "cell_type": "markdown",
      "metadata": {
        "id": "mKRkIjT8j6eZ"
      },
      "source": [
        "# Sequential container"
      ]
    },
    {
      "cell_type": "markdown",
      "metadata": {
        "id": "Cb98PPpJj6ea"
      },
      "source": [
        "**Define** a forward and backward pass procedures."
      ]
    },
    {
      "cell_type": "code",
      "execution_count": 4,
      "metadata": {
        "id": "7y2lav4dj6ea"
      },
      "outputs": [],
      "source": [
        "class Sequential(Module):\n",
        "    \"\"\"\n",
        "         This class implements a container, which processes `input` data sequentially.\n",
        "\n",
        "         `input` is processed by each module (layer) in self.modules consecutively.\n",
        "         The resulting array is called `output`.\n",
        "\n",
        "         Этот класс реализует контейнер, который последовательно обрабатывает \"входные\" данные.\n",
        "\n",
        "         \"входные\" данные обрабатываются каждым модулем (слоем) в self.modules последовательно.\n",
        "         Результирующий массив называется `выходным`.\n",
        "    \"\"\"\n",
        "\n",
        "    def __init__ (self):\n",
        "        super(Sequential, self).__init__()\n",
        "        self.modules = []\n",
        "\n",
        "    def add(self, module):\n",
        "        \"\"\"\n",
        "        Adds a module to the container.\n",
        "\n",
        "        Добавляет модуль в контейнер.\n",
        "        \"\"\"\n",
        "        self.modules.append(module)\n",
        "\n",
        "    def updateOutput(self, input):\n",
        "        \"\"\"\n",
        "        Basic workflow of FORWARD PASS:\n",
        "\n",
        "            y_0    = module[0].forward(input)\n",
        "            y_1    = module[1].forward(y_0)\n",
        "            ...\n",
        "            output = module[n-1].forward(y_{n-2})\n",
        "\n",
        "\n",
        "        Just write a little loop.\n",
        "\n",
        "        Основной рабочий процесс ПРЯМОГО ПРОХОДА:\n",
        "\n",
        "            y_0 = модуль[0].forward(ввод)\n",
        "            y_1 = модуль[1].forward(y_0)\n",
        "            ...\n",
        "            output = модуль[n-1].forward(y_{n-2})\n",
        "\n",
        "\n",
        "        Просто напишите небольшой цикл.\n",
        "        \"\"\"\n",
        "\n",
        "        # Your code goes here. ################################################\n",
        "\n",
        "        output = input\n",
        "        self.output_modules = [output]  # Initialize list with input\n",
        "        for module in self.modules:\n",
        "            output = module.forward(output)\n",
        "            self.output_modules.append(output)  # Store intermediate outputs\n",
        "        self.output = output\n",
        "\n",
        "        return self.output\n",
        "    def backward(self, input, gradOutput):\n",
        "        \"\"\"\n",
        "        Workflow of BACKWARD PASS:\n",
        "\n",
        "            g_{n-1} = module[n-1].backward(y_{n-2}, gradOutput)\n",
        "            g_{n-2} = module[n-2].backward(y_{n-3}, g_{n-1})\n",
        "            ...\n",
        "            g_1 = module[1].backward(y_0, g_2)\n",
        "            gradInput = module[0].backward(input, g_1)\n",
        "\n",
        "\n",
        "        !!!\n",
        "\n",
        "        To ech module you need to provide the input, module saw while forward pass,\n",
        "        it is used while computing gradients.\n",
        "        Make sure that the input for `i-th` layer the output of `module[i]` (just the same input as in forward pass)\n",
        "        and NOT `input` to this Sequential module.\n",
        "\n",
        "        !!!\n",
        "\n",
        "         Рабочий процесс ОБРАТНОГО ПРОХОДА:\n",
        "\n",
        "            g_{n-1} = модуль[n-1].обратный(y_{n-2}, градуированный вывод)\n",
        "            g_{n-2} = модуль[n-2].в обратном направлении(y_{n-3}, g_{n-1})\n",
        "            ...\n",
        "            g_1 = модуль[1].в обратном направлении(y_0, g_2)\n",
        "            gradInput = module[0].обратный ввод(input, g_1)\n",
        "\n",
        "\n",
        "        !!!\n",
        "\n",
        "        Модулю ech необходимо предоставить входные данные, которые модуль видел при прямом проходе,\n",
        "        они используются при вычислении градиентов.\n",
        "        Убедитесь, что входные данные для \"i-го\" соответствуют выходным данным \"модуля [i]\" (точно таким же входным данным, как и в прямом проходе)\n",
        "        а не \"входным данным\" для этого последовательного модуля.\n",
        "\n",
        "        !!!\n",
        "\n",
        "        \"\"\"\n",
        "        # Your code goes here. ################################################\n",
        "        gradInput = gradOutput\n",
        "        for module, output in zip(reversed(self.modules), reversed(self.output_modules[:-1])):\n",
        "            gradInput = module.backward(output, gradInput)\n",
        "        self.gradInput = gradInput\n",
        "\n",
        "        return self.gradInput\n",
        "\n",
        "\n",
        "    def zeroGradParameters(self):\n",
        "        for module in self.modules:\n",
        "            module.zeroGradParameters()\n",
        "\n",
        "    def getParameters(self):\n",
        "        \"\"\"\n",
        "        Should gather all parameters in a list.\n",
        "\n",
        "        Следует собрать все параметры в список.\n",
        "        \"\"\"\n",
        "        return [x.getParameters() for x in self.modules]\n",
        "\n",
        "    def getGradParameters(self):\n",
        "        \"\"\"\n",
        "        Should gather all gradients w.r.t parameters in a list.\n",
        "\n",
        "        Следует собрать все градиенты с параметрами rt в список.\n",
        "        \"\"\"\n",
        "        return [x.getGradParameters() for x in self.modules]\n",
        "\n",
        "    def __repr__(self):\n",
        "        string = \"\".join([str(x) + '\\n' for x in self.modules])\n",
        "        return string\n",
        "\n",
        "    def __getitem__(self,x):\n",
        "        return self.modules.__getitem__(x)\n",
        "\n",
        "    def train(self):\n",
        "        \"\"\"\n",
        "        Propagates training parameter through all modules\n",
        "\n",
        "        Распространяет обучающий параметр по всем модулям\n",
        "        \"\"\"\n",
        "        self.training = True\n",
        "        for module in self.modules:\n",
        "            module.train()\n",
        "\n",
        "    def evaluate(self):\n",
        "        \"\"\"\n",
        "        Propagates training parameter through all modules\n",
        "\n",
        "        Распространяет обучающий параметр по всем модулям\n",
        "        \"\"\"\n",
        "        self.training = False\n",
        "        for module in self.modules:\n",
        "            module.evaluate()"
      ]
    },
    {
      "cell_type": "markdown",
      "metadata": {
        "id": "zfXdYfO4j6ea"
      },
      "source": [
        "# Layers"
      ]
    },
    {
      "cell_type": "markdown",
      "metadata": {
        "id": "ZuwvBkuNj6ea"
      },
      "source": [
        "## 1 (0.2). Linear transform layer\n",
        "Also known as dense layer, fully-connected layer, FC-layer, InnerProductLayer (in caffe), affine transform\n",
        "- input:   **`batch_size x n_feats1`**\n",
        "- output: **`batch_size x n_feats2`**"
      ]
    },
    {
      "cell_type": "code",
      "execution_count": null,
      "metadata": {
        "id": "D0uoyqkpj6ea"
      },
      "outputs": [],
      "source": [
        "class Linear(Module):\n",
        "    \"\"\"\n",
        "    A module which applies a linear transformation\n",
        "    A common name is fully-connected layer, InnerProductLayer in caffe.\n",
        "\n",
        "    The module should work with 2D input of shape (n_samples, n_feature).\n",
        "    \"\"\"\n",
        "    def __init__(self, n_in, n_out):\n",
        "        super(Linear, self).__init__()\n",
        "\n",
        "        # This is a nice initialization\n",
        "        stdv = 1./np.sqrt(n_in)\n",
        "        self.W = np.random.uniform(-stdv, stdv, size = (n_out, n_in))\n",
        "        self.b = np.random.uniform(-stdv, stdv, size = n_out)\n",
        "\n",
        "        self.gradW = np.zeros_like(self.W)\n",
        "        self.gradb = np.zeros_like(self.b)\n",
        "\n",
        "    def updateOutput(self, input):\n",
        "        # Your code goes here. ################################################\n",
        "        # self.output = ...\n",
        "        self.output = input @ self.W.T + self.b\n",
        "        return self.output\n",
        "\n",
        "    def updateGradInput(self, input, gradOutput):\n",
        "        # Your code goes here. ################################################\n",
        "        # self.gradInput = ...\n",
        "        self.gradInput = gradOutput @ self.W\n",
        "        return self.gradInput\n",
        "\n",
        "    def accGradParameters(self, input, gradOutput):\n",
        "        # Your code goes here. ################################################\n",
        "        # self.gradW = ... ; self.gradb = ...\n",
        "        self.gradW = gradOutput.T @ input\n",
        "        self.gradb = np.sum(gradOutput, axis=0)\n",
        "        pass\n",
        "\n",
        "    def zeroGradParameters(self):\n",
        "        self.gradW.fill(0)\n",
        "        self.gradb.fill(0)\n",
        "\n",
        "    def getParameters(self):\n",
        "        return [self.W, self.b]\n",
        "\n",
        "    def getGradParameters(self):\n",
        "        return [self.gradW, self.gradb]\n",
        "\n",
        "    def __repr__(self):\n",
        "        s = self.W.shape\n",
        "        q = 'Linear %d -> %d' %(s[1],s[0])\n",
        "        return q"
      ]
    },
    {
      "cell_type": "markdown",
      "metadata": {
        "id": "tNOnHXZJj6eb"
      },
      "source": [
        "## 2. (0.2) SoftMax\n",
        "- input:   **`batch_size x n_feats`**\n",
        "- output: **`batch_size x n_feats`**\n",
        "\n",
        "$\\text{softmax}(x)_i = \\frac{\\exp x_i} {\\sum_j \\exp x_j}$\n",
        "\n",
        "Recall that $\\text{softmax}(x) == \\text{softmax}(x - \\text{const})$. It makes possible to avoid computing exp() from large argument."
      ]
    },
    {
      "cell_type": "code",
      "execution_count": null,
      "metadata": {
        "collapsed": true,
        "id": "VIValI0hj6eb",
        "jupyter": {
          "outputs_hidden": true
        }
      },
      "outputs": [],
      "source": [
        "class SoftMax(Module):\n",
        "    def __init__(self):\n",
        "         super(SoftMax, self).__init__()\n",
        "\n",
        "    def updateOutput(self, input):\n",
        "        # start with normalization for numerical stability\n",
        "        shifted_input = np.subtract(input, input.max(axis=1, keepdims=True))\n",
        "\n",
        "        # Your code goes here. ################################################\n",
        "        exp = np.exp(shifted_input)\n",
        "        self.output = exp / np.sum(exp, axis=1, keepdims=True)\n",
        "        return self.output\n",
        "\n",
        "    def updateGradInput(self, input, gradOutput):\n",
        "        # Your code goes here. ################################################\n",
        "        shifted_input = np.subtract(input, input.max(axis=1, keepdims=True))\n",
        "        exp = np.exp(shifted_input)\n",
        "        softmax = exp / np.sum(exp, axis=1, keepdims=True)\n",
        "\n",
        "        self.gradInput = np.empty_like(input)\n",
        "\n",
        "        for i in range(len(input)):\n",
        "          s = softmax[i].reshape(-1, 1)\n",
        "          jacobian_matrix = np.diagflat(s) - np.dot(s, s.T)\n",
        "          self.gradInput[i] = np.dot(jacobian_matrix, gradOutput[i])\n",
        "\n",
        "        return self.gradInput\n",
        "\n",
        "    def __repr__(self):\n",
        "        return \"SoftMax\""
      ]
    },
    {
      "cell_type": "markdown",
      "metadata": {
        "id": "Cy3DJjynj6eb"
      },
      "source": [
        "## 3. (0.2) LogSoftMax\n",
        "- input:   **`batch_size x n_feats`**\n",
        "- output: **`batch_size x n_feats`**\n",
        "\n",
        "$\\text{logsoftmax}(x)_i = \\log\\text{softmax}(x)_i = x_i - \\log {\\sum_j \\exp x_j}$\n",
        "\n",
        "The main goal of this layer is to be used in computation of log-likelihood loss."
      ]
    },
    {
      "cell_type": "code",
      "execution_count": null,
      "metadata": {
        "collapsed": true,
        "id": "Xo7DRdAJj6eb",
        "jupyter": {
          "outputs_hidden": true
        }
      },
      "outputs": [],
      "source": [
        "class LogSoftMax(Module):\n",
        "    def __init__(self):\n",
        "         super(LogSoftMax, self).__init__()\n",
        "\n",
        "    def updateOutput(self, input):\n",
        "        # start with normalization for numerical stability\n",
        "        shifted_input = np.subtract(input, input.max(axis=1, keepdims=True))\n",
        "\n",
        "        # Your code goes here. ################################################\n",
        "        exp = np.exp(shifted_input)\n",
        "        self.output = shifted_input - np.log(np.sum(exp, axis=1, keepdims=True))\n",
        "\n",
        "        return self.output\n",
        "\n",
        "    def updateGradInput(self, input, gradOutput):\n",
        "        # Your code goes here. ################################################\n",
        "        softmax_grad = np.exp(self.output) / np.sum(np.exp(self.output), axis=1, keepdims=True)\n",
        "        self.gradInput = gradOutput - softmax_grad * np.sum(gradOutput, axis=1, keepdims=True)\n",
        "\n",
        "        return self.gradInput\n",
        "\n",
        "    def __repr__(self):\n",
        "        return \"LogSoftMax\""
      ]
    },
    {
      "cell_type": "markdown",
      "metadata": {
        "id": "QP5QdmmPj6eb"
      },
      "source": [
        "## 4. (0.3) Batch normalization\n",
        "One of the most significant recent ideas that impacted NNs a lot is [**Batch normalization**](http://arxiv.org/abs/1502.03167). The idea is simple, yet effective: the features should be whitened ($mean = 0$, $std = 1$) all the way through NN. This improves the convergence for deep models letting it train them for days but not weeks. **You are** to implement the first part of the layer: features normalization. The second part (`ChannelwiseScaling` layer) is implemented below.\n",
        "\n",
        "- input:   **`batch_size x n_feats`**\n",
        "- output: **`batch_size x n_feats`**\n",
        "\n",
        "The layer should work as follows. While training (`self.training == True`) it transforms input as $$y = \\frac{x - \\mu}  {\\sqrt{\\sigma + \\epsilon}}$$\n",
        "where $\\mu$ and $\\sigma$ - mean and variance of feature values in **batch** and $\\epsilon$ is just a small number for numericall stability. Also during training, layer should maintain exponential moving average values for mean and variance:\n",
        "```\n",
        "    self.moving_mean = self.moving_mean * alpha + batch_mean * (1 - alpha)\n",
        "    self.moving_variance = self.moving_variance * alpha + batch_variance * (1 - alpha)\n",
        "```\n",
        "During testing (`self.training == False`) the layer normalizes input using moving_mean and moving_variance.\n",
        "\n",
        "Note that decomposition of batch normalization on normalization itself and channelwise scaling here is just a common **implementation** choice. In general \"batch normalization\" always assumes normalization + scaling."
      ]
    },
    {
      "cell_type": "code",
      "execution_count": null,
      "metadata": {
        "collapsed": true,
        "id": "fGTTDqVgj6eb",
        "jupyter": {
          "outputs_hidden": true
        }
      },
      "outputs": [],
      "source": [
        "class BatchNormalization(Module):\n",
        "    EPS = 1e-3\n",
        "    def __init__(self, alpha = 0.):\n",
        "        super(BatchNormalization, self).__init__()\n",
        "        self.alpha = alpha\n",
        "        self.moving_mean = None\n",
        "        self.moving_variance = None\n",
        "\n",
        "    def updateOutput(self, input):\n",
        "        # Your code goes here. ################################################\n",
        "        # use self.EPS please\n",
        "        if self.training:\n",
        "            batch_mean = np.mean(input, axis=0)\n",
        "            batch_variance = np.var(input, axis=0)\n",
        "\n",
        "            if self.moving_mean is None:\n",
        "                self.moving_mean = batch_mean\n",
        "            else:\n",
        "                self.moving_mean = self.moving_mean * self.alpha + batch_mean * (1 - self.alpha)\n",
        "\n",
        "            if self.moving_variance is None:\n",
        "                self.moving_variance = batch_variance\n",
        "            else:\n",
        "                self.moving_variance = self.moving_variance * self.alpha + batch_variance * (1 - self.alpha)\n",
        "\n",
        "            self.output = (input - batch_mean) / np.sqrt(batch_variance + self.EPS)\n",
        "        else:\n",
        "            self.output = (input - self.moving_mean) / np.sqrt(self.moving_variance + self.EPS)\n",
        "\n",
        "        return self.output\n",
        "\n",
        "    def updateGradInput(self, input, gradOutput):\n",
        "        # Your code goes here. ################################################\n",
        "        batch_size, n_feats = input.shape\n",
        "        batch_mean = np.mean(input, axis=0)\n",
        "        batch_variance = np.var(input, axis=0)\n",
        "        std_inv = 1.0 / np.sqrt(batch_variance + self.EPS)\n",
        "\n",
        "        dvar = np.sum(gradOutput * (input - batch_mean) * -0.5 * std_inv**3, axis=0)\n",
        "\n",
        "        dmean = np.sum(gradOutput * -std_inv, axis=0) + dvar * np.mean(-2.0 * (input - batch_mean), axis=0)\n",
        "\n",
        "        self.gradInput = gradOutput * std_inv + dvar * 2.0 * (input - batch_mean) / batch_size + dmean / batch_size\n",
        "\n",
        "        return self.gradInput\n",
        "\n",
        "    def __repr__(self):\n",
        "        return \"BatchNormalization\""
      ]
    },
    {
      "cell_type": "code",
      "execution_count": null,
      "metadata": {
        "collapsed": true,
        "id": "8XUS3Lt-j6eb",
        "jupyter": {
          "outputs_hidden": true
        }
      },
      "outputs": [],
      "source": [
        "class ChannelwiseScaling(Module):\n",
        "    \"\"\"\n",
        "       Implements linear transform of input y = \\gamma * x + \\beta\n",
        "       where \\gamma, \\beta - learnable vectors of length x.shape[-1]\n",
        "    \"\"\"\n",
        "    def __init__(self, n_out):\n",
        "        super(ChannelwiseScaling, self).__init__()\n",
        "\n",
        "        stdv = 1./np.sqrt(n_out)\n",
        "        self.gamma = np.random.uniform(-stdv, stdv, size=n_out)\n",
        "        self.beta = np.random.uniform(-stdv, stdv, size=n_out)\n",
        "\n",
        "        self.gradGamma = np.zeros_like(self.gamma)\n",
        "        self.gradBeta = np.zeros_like(self.beta)\n",
        "\n",
        "    def updateOutput(self, input):\n",
        "        self.output = input * self.gamma + self.beta\n",
        "        return self.output\n",
        "\n",
        "    def updateGradInput(self, input, gradOutput):\n",
        "        self.gradInput = gradOutput * self.gamma\n",
        "        return self.gradInput\n",
        "\n",
        "    def accGradParameters(self, input, gradOutput):\n",
        "        self.gradBeta = np.sum(gradOutput, axis=0)\n",
        "        self.gradGamma = np.sum(gradOutput*input, axis=0)\n",
        "\n",
        "    def zeroGradParameters(self):\n",
        "        self.gradGamma.fill(0)\n",
        "        self.gradBeta.fill(0)\n",
        "\n",
        "    def getParameters(self):\n",
        "        return [self.gamma, self.beta]\n",
        "\n",
        "    def getGradParameters(self):\n",
        "        return [self.gradGamma, self.gradBeta]\n",
        "\n",
        "    def __repr__(self):\n",
        "        return \"ChannelwiseScaling\""
      ]
    },
    {
      "cell_type": "markdown",
      "metadata": {
        "id": "vA5zjM3jj6eb"
      },
      "source": [
        "Practical notes. If BatchNormalization is placed after a linear transformation layer (including dense layer, convolutions, channelwise scaling) that implements function like `y = weight * x + bias`, than bias adding become useless and could be omitted since its effect will be discarded while batch mean subtraction. If BatchNormalization (followed by `ChannelwiseScaling`) is placed before a layer that propagates scale (including ReLU, LeakyReLU) followed by any linear transformation layer than parameter `gamma` in `ChannelwiseScaling` could be freezed since it could be absorbed into the linear transformation layer."
      ]
    },
    {
      "cell_type": "markdown",
      "metadata": {
        "id": "Gackeo1cj6eb"
      },
      "source": [
        "## 5. (0.3) Dropout\n",
        "Implement [**dropout**](https://www.cs.toronto.edu/~hinton/absps/JMLRdropout.pdf). The idea and implementation is really simple: just multimply the input by $Bernoulli(p)$ mask. Here $p$ is probability of an element to be zeroed.\n",
        "\n",
        "This has proven to be an effective technique for regularization and preventing the co-adaptation of neurons.\n",
        "\n",
        "While training (`self.training == True`) it should sample a mask on each iteration (for every batch), zero out elements and multiply elements by $1 / (1 - p)$. The latter is needed for keeping mean values of features close to mean values which will be in test mode. When testing this module should implement identity transform i.e. `self.output = input`.\n",
        "\n",
        "- input:   **`batch_size x n_feats`**\n",
        "- output: **`batch_size x n_feats`**"
      ]
    },
    {
      "cell_type": "code",
      "execution_count": null,
      "metadata": {
        "id": "NmLQV3jXj6eb"
      },
      "outputs": [],
      "source": [
        "class Dropout(Module):\n",
        "    def __init__(self, p=0.5):\n",
        "        super(Dropout, self).__init__()\n",
        "\n",
        "        self.p = p\n",
        "        self.mask = None\n",
        "\n",
        "    def updateOutput(self, input):\n",
        "        # Your code goes here. ################################################\n",
        "        if self.training:\n",
        "          self.mask = np.random.binomial(1, 1 - self.p, size=input.shape)\n",
        "          self.output = input * self.mask / (1 - self.p)\n",
        "        else:\n",
        "          self.output = input\n",
        "        return  self.output\n",
        "\n",
        "    def updateGradInput(self, input, gradOutput):\n",
        "        # Your code goes here. ################################################\n",
        "        if self.training:\n",
        "          self.gradInput = gradOutput * self.mask / (1 - self.p)\n",
        "        else:\n",
        "          self.gradInput = gradOutput\n",
        "        return self.gradInput\n",
        "\n",
        "    def __repr__(self):\n",
        "        return \"Dropout\""
      ]
    },
    {
      "cell_type": "markdown",
      "metadata": {
        "id": "-WHGIqJFlhz2"
      },
      "source": [
        "#6. (2.0) Conv2d\n",
        "Implement [**Conv2d**](https://pytorch.org/docs/stable/generated/torch.nn.Conv2d.html). Use only this list of parameters: (in_channels, out_channels, kernel_size, stride, padding, bias, padding_mode) and fix dilation=1 and groups=1."
      ]
    },
    {
      "cell_type": "code",
      "execution_count": 14,
      "metadata": {
        "id": "c1RjNoEXlOHP"
      },
      "outputs": [],
      "source": [
        "class Conv2d(Module):\n",
        "    def __init__(self, in_channels, out_channels, kernel_size,\n",
        "                 stride=1, padding=0, bias=True, padding_mode='zeros'):\n",
        "        super(Conv2d, self).__init__()\n",
        "\n",
        "        self.in_channels = in_channels\n",
        "        self.out_channels = out_channels\n",
        "        self.kernel_size = kernel_size\n",
        "        self.stride = stride\n",
        "        self.padding = padding\n",
        "        self.bias = bias\n",
        "        self.padding_mode = padding_mode\n",
        "\n",
        "        self.training = True\n",
        "\n",
        "\n",
        "        if isinstance(kernel_size, int):\n",
        "            self.kernel_size = (kernel_size, kernel_size)\n",
        "        if isinstance(stride, int):\n",
        "            self.stride = (stride, stride)\n",
        "        if isinstance(padding, int):\n",
        "            self.padding = (padding, padding)\n",
        "\n",
        "        self.weight = np.random.randn(out_channels, in_channels, self.kernel_size[0], self.kernel_size[1]) / np.sqrt(in_channels * self.kernel_size[0] * self.kernel_size[1])\n",
        "        if bias:\n",
        "            self.bias_term = np.zeros(out_channels)\n",
        "        else:\n",
        "            self.bias_term = None\n",
        "\n",
        "        self._parameters = [self.weight]\n",
        "        if bias:\n",
        "            self._parameters.append(self.bias_term)\n",
        "\n",
        "        self._gradient = [np.zeros_like(w) for w in self._parameters]\n",
        "\n",
        "    def _pad_input(self, input):\n",
        "        if self.padding_mode == 'zeros':\n",
        "            padded_input = np.pad(input, ((0, 0), (0, 0), (self.padding[0], self.padding[0]), (self.padding[1], self.padding[1])), 'constant')\n",
        "        elif self.padding_mode == 'reflect':\n",
        "            padded_input = np.pad(input, ((0, 0), (0, 0), (self.padding[0], self.padding[0]), (self.padding[1], self.padding[1])), 'reflect')\n",
        "        elif self.padding_mode == 'replicate':\n",
        "            padded_input = np.pad(input, ((0, 0), (0, 0), (self.padding[0], self.padding[0]), (self.padding[1], self.padding[1])), 'edge')\n",
        "        elif self.padding_mode == 'same':\n",
        "            height = input.shape[2]\n",
        "            width = input.shape[3]\n",
        "            out_height = (height + self.stride[0] - 1) // self.stride[0]\n",
        "            out_width = (width + self.stride[1] - 1) // self.stride[1]\n",
        "            pad_h = max((out_height - 1) * self.stride[0] + self.kernel_size[0] - height, 0)\n",
        "            pad_w = max((out_width - 1) * self.stride[1] + self.kernel_size[1] - width, 0)\n",
        "            pad_top = pad_h // 2\n",
        "            pad_bottom = pad_h - pad_top\n",
        "            pad_left = pad_w // 2\n",
        "            pad_right = pad_w - pad_left\n",
        "            padded_input = np.pad(input, ((0, 0), (0, 0), (pad_top, pad_bottom), (pad_left, pad_right)), 'constant')\n",
        "        else:\n",
        "            raise ValueError(f\"Invalid padding_mode: {self.padding_mode}\")\n",
        "        return padded_input\n",
        "\n",
        "    def updateOutput(self, input):\n",
        "        input = np.array(input)\n",
        "        padded_input = self._pad_input(input)\n",
        "        batch_size, in_channels, in_height, in_width = padded_input.shape\n",
        "        out_height = (in_height - self.kernel_size[0]) // self.stride[0] + 1\n",
        "        out_width = (in_width - self.kernel_size[1]) // self.stride[1] + 1\n",
        "        output = np.zeros((batch_size, self.out_channels, out_height, out_width))\n",
        "\n",
        "        for b in range(batch_size):\n",
        "            for out_c in range(self.out_channels):\n",
        "                for out_h in range(out_height):\n",
        "                    for out_w in range(out_width):\n",
        "                        input_slice = padded_input[b, :, out_h * self.stride[0]:out_h * self.stride[0] + self.kernel_size[0], out_w * self.stride[1]:out_w * self.stride[1] + self.kernel_size[1]]\n",
        "                        output[b, out_c, out_h, out_w] = np.sum(input_slice * self.weight[out_c])\n",
        "                        if self.bias_term is not None:\n",
        "                            output[b, out_c, out_h, out_w] += self.bias_term[out_c]\n",
        "\n",
        "        self.output = output\n",
        "        return self.output\n",
        "\n",
        "    def updateGradInput(self, input, gradOutput):\n",
        "        input = np.array(input)\n",
        "        padded_input = self._pad_input(input)\n",
        "        batch_size, in_channels, in_height, in_width = padded_input.shape\n",
        "        out_height, out_width = gradOutput.shape[2], gradOutput.shape[3]\n",
        "        gradInput = np.zeros_like(padded_input)\n",
        "        gradWeight = np.zeros_like(self.weight)\n",
        "        gradBias = np.zeros_like(self.bias_term) if self.bias_term is not None else None\n",
        "\n",
        "        for b in range(batch_size):\n",
        "            for out_c in range(self.out_channels):\n",
        "                for out_h in range(out_height):\n",
        "                    for out_w in range(out_width):\n",
        "                        input_slice = padded_input[b, :, out_h * self.stride[0]:out_h * self.stride[0] + self.kernel_size[0], out_w * self.stride[1]:out_w * self.stride[1] + self.kernel_size[1]]\n",
        "                        gradInput[b, :, out_h * self.stride[0]:out_h * self.stride[0] + self.kernel_size[0], out_w * self.stride[1]:out_w * self.stride[1] + self.kernel_size[1]] += gradOutput[b, out_c, out_h, out_w] * self.weight[out_c]\n",
        "                        gradWeight[out_c] += gradOutput[b, out_c, out_h, out_w] * input_slice\n",
        "                        if self.bias_term is not None:\n",
        "                            gradBias[out_c] += gradOutput[b, out_c, out_h, out_w]\n",
        "\n",
        "        if self.padding_mode == 'same' :\n",
        "          pad_h = max((self.stride[0] * (input.shape[2] - 1) + self.kernel_size[0] - input.shape[2]) // 2, 0)\n",
        "          pad_w = max((self.stride[1] * (input.shape[3] - 1) + self.kernel_size[1] - input.shape[3]) // 2, 0)\n",
        "          gradInput = gradInput[:,:,pad_h:gradInput.shape[2]-pad_h, pad_w:gradInput.shape[3]-pad_w]\n",
        "        else:\n",
        "          gradInput = gradInput[:,:,self.padding[0]:gradInput.shape[2]-self.padding[0], self.padding[1]:gradInput.shape[3]-self.padding[1]]\n",
        "\n",
        "        self.gradInput = gradInput\n",
        "        self._gradient[0] = gradWeight\n",
        "        if self.bias_term is not None:\n",
        "            self._gradient[1] = gradBias\n",
        "        return self.gradInput\n",
        "\n",
        "    def __repr__(self):\n",
        "        return \"Conv2d\""
      ]
    },
    {
      "cell_type": "markdown",
      "metadata": {
        "id": "updUVZE9qixP"
      },
      "source": [
        "#7. (0.5) Implement [**MaxPool2d**](https://pytorch.org/docs/stable/generated/torch.nn.MaxPool2d.html) and [**AvgPool2d**](https://pytorch.org/docs/stable/generated/torch.nn.AvgPool2d.html). Use only parameters like kernel_size, stride, padding (negative infinity for maxpool and zero for avgpool) and other parameters fixed as in framework."
      ]
    },
    {
      "cell_type": "code",
      "execution_count": null,
      "metadata": {
        "id": "Qys58EzkqhLj"
      },
      "outputs": [],
      "source": [
        "class MaxPool2d(Module):\n",
        "    def __init__(self, kernel_size, stride, padding):\n",
        "        super(MaxPool2d, self).__init__()\n",
        "\n",
        "        self.kernel_size = kernel_size\n",
        "        self.stride = stride\n",
        "        self.padding = padding\n",
        "\n",
        "    def updateOutput(self, input):\n",
        "        # Your code goes here. ################################################\n",
        "        batch_size, channels, height, width = input.shape\n",
        "\n",
        "        out_height = (height - self.kernel_size + 2 * self.padding) // self.stride + 1\n",
        "        out_width = (width - self.kernel_size + 2 * self.padding) // self.stride + 1\n",
        "\n",
        "        padded_input = np.pad(input,\n",
        "                              ((0, 0), (0, 0), (self.padding, self.padding), (self.padding, self.padding)),\n",
        "                              mode='constant', constant_values=-np.inf)\n",
        "\n",
        "        self.output = np.zeros((batch_size, channels, out_height, out_width))\n",
        "\n",
        "        for i in range(out_height):\n",
        "            for j in range(out_width):\n",
        "                h_start = i * self.stride\n",
        "                w_start = j * self.stride\n",
        "\n",
        "                region = padded_input[:, :, h_start:h_start + self.kernel_size, w_start:w_start + self.kernel_size]\n",
        "                self.output[:, :, i, j] = np.max(region, axis=(2, 3))\n",
        "        return  self.output\n",
        "\n",
        "    def updateGradInput(self, input, gradOutput):\n",
        "        # Your code goes here. ################################################\n",
        "        batch_size, channels, height, width = input.shape\n",
        "        out_height, out_width = gradOutput.shape[2], gradOutput.shape[3]\n",
        "\n",
        "        gradInput = np.zeros_like(input)\n",
        "\n",
        "        padded_input = np.pad(input,\n",
        "                          ((0, 0), (0, 0), (self.padding, self.padding), (self.padding, self.padding)),\n",
        "                          mode='constant', constant_values=-np.inf)\n",
        "\n",
        "        for i in range(out_height):\n",
        "          for j in range(out_width):\n",
        "            h_start = i * self.stride\n",
        "            w_start = j * self.stride\n",
        "\n",
        "            region = padded_input[:, :, h_start:h_start + self.kernel_size, w_start:w_start + self.kernel_size]\n",
        "\n",
        "            max_mask = (region == np.max(region, axis=(2, 3), keepdims=True))\n",
        "\n",
        "            gradInput[:, :, h_start:h_start + self.kernel_size, w_start:w_start + self.kernel_size] += \\\n",
        "                gradOutput[:, :, i, j][:, :, np.newaxis, np.newaxis] * max_mask\n",
        "\n",
        "        self.gradInput = gradInput\n",
        "\n",
        "        return self.gradInput\n",
        "\n",
        "    def __repr__(self):\n",
        "        return \"MaxPool2d\"\n",
        "\n",
        "\n",
        "class AvgPool2d(Module):\n",
        "    def __init__(self, kernel_size, stride, padding):\n",
        "        super(AvgPool2d, self).__init__()\n",
        "        self.kernel_size = kernel_size\n",
        "        self.stride = stride\n",
        "        self.padding = padding\n",
        "\n",
        "    def updateOutput(self, input):\n",
        "        # Your code goes here. ################################################\n",
        "        batch_size, channels, in_h, in_w = input.shape\n",
        "        k_h, k_w = (self.kernel_size, self.kernel_size) if isinstance(self.kernel_size, int) else self.kernel_size\n",
        "        s_h, s_w = (self.stride, self.stride) if isinstance(self.stride, int) else self.stride\n",
        "        p_h, p_w = (self.padding, self.padding) if isinstance(self.padding, int) else self.padding\n",
        "\n",
        "        out_h = (in_h + 2 * p_h - k_h) // s_h + 1\n",
        "        out_w = (in_w + 2 * p_w - k_w) // s_w + 1\n",
        "\n",
        "        padded_input = np.pad(input,\n",
        "                            ((0,0), (0,0), (p_h,p_h), (p_w,p_w)),\n",
        "                            mode='constant',\n",
        "                            constant_values=0)\n",
        "\n",
        "        self.output = np.zeros((batch_size, channels, out_h, out_w))\n",
        "\n",
        "        for b in range(batch_size):\n",
        "            for c in range(channels):\n",
        "                for i in range(out_h):\n",
        "                    for j in range(out_w):\n",
        "                        h_start = i * s_h\n",
        "                        h_end = h_start + k_h\n",
        "                        w_start = j * s_w\n",
        "                        w_end = w_start + k_w\n",
        "\n",
        "                        window = padded_input[b, c, h_start:h_end, w_start:w_end]\n",
        "                        self.output[b, c, i, j] = np.mean(window)\n",
        "        return self.output\n",
        "\n",
        "    def updateGradInput(self, input, gradOutput):\n",
        "        # Your code goes here. ################################################\n",
        "        batch_size, channels, in_h, in_w = input.shape\n",
        "        k_h, k_w = (self.kernel_size, self.kernel_size) if isinstance(self.kernel_size, int) else self.kernel_size\n",
        "        s_h, s_w = (self.stride, self.stride) if isinstance(self.stride, int) else self.stride\n",
        "        p_h, p_w = (self.padding, self.padding) if isinstance(self.padding, int) else self.padding\n",
        "\n",
        "        padded_grad = np.pad(np.zeros_like(input),\n",
        "                           ((0,0), (0,0), (p_h,p_h), (p_w,p_w)),\n",
        "                           mode='constant',\n",
        "                           constant_values=0)\n",
        "\n",
        "        out_h, out_w = gradOutput.shape[2], gradOutput.shape[3]\n",
        "\n",
        "        for b in range(batch_size):\n",
        "            for c in range(channels):\n",
        "                for i in range(out_h):\n",
        "                    for j in range(out_w):\n",
        "                        h_start = i * s_h\n",
        "                        h_end = h_start + k_h\n",
        "                        w_start = j * s_w\n",
        "                        w_end = w_start + k_w\n",
        "\n",
        "                        grad = gradOutput[b, c, i, j] / (k_h * k_w)\n",
        "                        padded_grad[b, c, h_start:h_end, w_start:w_end] += grad\n",
        "\n",
        "        self.gradInput = padded_grad[:, :, p_h:p_h+in_h, p_w:p_w+in_w] if (p_h > 0 or p_w > 0) else padded_grad\n",
        "        return self.gradInput\n",
        "\n",
        "    def __repr__(self):\n",
        "        return \"AvgPool2d\"\n"
      ]
    },
    {
      "cell_type": "markdown",
      "metadata": {
        "id": "KTN5R3CwrukV"
      },
      "source": [
        "#8. (0.3) Implement **GlobalMaxPool2d** and **GlobalAvgPool2d**. They do not have testing and parameters are up to you but they must aggregate information within channels. Write test functions for these layers on your own."
      ]
    },
    {
      "cell_type": "code",
      "source": [
        "class GlobalMaxPool2d(Module):\n",
        "    def __init__(self):\n",
        "        super(GlobalMaxPool2d, self).__init__()\n",
        "\n",
        "    def updateOutput(self, input):\n",
        "        self.input = input\n",
        "\n",
        "        self.output = np.max(input, axis=(2, 3), keepdims=True)\n",
        "        return self.output\n",
        "\n",
        "    def updateGradInput(self, input, gradOutput):\n",
        "        self.gradInput = np.zeros_like(input)\n",
        "\n",
        "        mask = (input == self.output)\n",
        "        self.gradInput[mask] = gradOutput.repeat(input.shape[2], axis=2).repeat(input.shape[3], axis=3)[mask]\n",
        "\n",
        "        return self.gradInput\n",
        "\n",
        "    def __repr__(self):\n",
        "        return \"GlobalMaxPool2d\"\n",
        "\n",
        "class GlobalAvgPool2d(Module):\n",
        "    def __init__(self):\n",
        "        super(GlobalAvgPool2d, self).__init__()\n",
        "\n",
        "    def updateOutput(self, input):\n",
        "        self.input = input\n",
        "\n",
        "        self.output = np.mean(input, axis=(2, 3), keepdims=True)\n",
        "        return self.output\n",
        "\n",
        "    def updateGradInput(self, input, gradOutput):\n",
        "        self.gradInput = np.ones_like(input) * (gradOutput / (input.shape[2] * input.shape[3]))\n",
        "        return self.gradInput\n",
        "\n",
        "    def __repr__(self):\n",
        "        return \"GlobalAvgPool2d\""
      ],
      "metadata": {
        "id": "ezswNVci3ION"
      },
      "execution_count": null,
      "outputs": []
    },
    {
      "cell_type": "markdown",
      "metadata": {
        "id": "cYeBQDBhtViy"
      },
      "source": [
        "#9. (0.2) Implement [**Flatten**](https://pytorch.org/docs/stable/generated/torch.flatten.html)"
      ]
    },
    {
      "cell_type": "code",
      "execution_count": null,
      "metadata": {
        "id": "SimPEMOFqhTQ"
      },
      "outputs": [],
      "source": [
        "class Flatten(Module):\n",
        "    def __init__(self, start_dim=0, end_dim=-1):\n",
        "        super(Flatten, self).__init__()\n",
        "\n",
        "        self.start_dim = start_dim\n",
        "        self.end_dim = end_dim\n",
        "\n",
        "    def updateOutput(self, input):\n",
        "        # Your code goes here. ################################################\n",
        "        self.input_shape = input.shape\n",
        "\n",
        "        start_dim = self.start_dim\n",
        "        end_dim = self.end_dim if self.end_dim != -1 else len(input.shape) - 1\n",
        "\n",
        "        new_shape = input.shape[:start_dim] + (-1,) + input.shape[end_dim + 1:]\n",
        "\n",
        "        self.output = input.reshape(new_shape)\n",
        "        return  self.output\n",
        "\n",
        "    def updateGradInput(self, input, gradOutput):\n",
        "        # Your code goes here. ################################################\n",
        "        self.gradInput = gradOutput.reshape(self.input_shape)\n",
        "        return self.gradInput\n",
        "\n",
        "    def __repr__(self):\n",
        "        return \"Flatten\""
      ]
    },
    {
      "cell_type": "markdown",
      "metadata": {
        "id": "o36vPHSSj6eb"
      },
      "source": [
        "# Activation functions"
      ]
    },
    {
      "cell_type": "markdown",
      "metadata": {
        "id": "l_pryRQIj6ec"
      },
      "source": [
        "Here's the complete example for the **Rectified Linear Unit** non-linearity (aka **ReLU**):"
      ]
    },
    {
      "cell_type": "code",
      "execution_count": null,
      "metadata": {
        "collapsed": true,
        "id": "sgm8bXjKj6ec",
        "jupyter": {
          "outputs_hidden": true
        }
      },
      "outputs": [],
      "source": [
        "class ReLU(Module):\n",
        "    def __init__(self):\n",
        "         super(ReLU, self).__init__()\n",
        "\n",
        "    def updateOutput(self, input):\n",
        "        self.output = np.maximum(input, 0)\n",
        "        return self.output\n",
        "\n",
        "    def updateGradInput(self, input, gradOutput):\n",
        "        self.gradInput = np.multiply(gradOutput , input > 0)\n",
        "        return self.gradInput\n",
        "\n",
        "    def __repr__(self):\n",
        "        return \"ReLU\""
      ]
    },
    {
      "cell_type": "markdown",
      "metadata": {
        "id": "yB0UHGagj6ec"
      },
      "source": [
        "## 10. (0.1) Leaky ReLU\n",
        "Implement [**Leaky Rectified Linear Unit**](http://en.wikipedia.org/wiki%2FRectifier_%28neural_networks%29%23Leaky_ReLUs). Expriment with slope."
      ]
    },
    {
      "cell_type": "code",
      "execution_count": null,
      "metadata": {
        "id": "agwfkwO0j6ec"
      },
      "outputs": [],
      "source": [
        "class LeakyReLU(Module):\n",
        "    def __init__(self, slope = 0.03):\n",
        "        super(LeakyReLU, self).__init__()\n",
        "\n",
        "        self.slope = slope\n",
        "\n",
        "    def updateOutput(self, input):\n",
        "        self.output = np.maximum(input, self.slope * input)\n",
        "        return self.output\n",
        "\n",
        "    def updateGradInput(self, input, gradOutput):\n",
        "        self.gradInput = gradOutput * (input > 0) + self.slope * (input <= 0) * gradOutput\n",
        "        return self.gradInput\n",
        "\n",
        "    def __repr__(self):\n",
        "        return \"LeakyReLU\""
      ]
    },
    {
      "cell_type": "markdown",
      "metadata": {
        "id": "t-STyecvj6ec"
      },
      "source": [
        "## 11. (0.1) ELU\n",
        "Implement [**Exponential Linear Units**](http://arxiv.org/abs/1511.07289) activations."
      ]
    },
    {
      "cell_type": "code",
      "execution_count": null,
      "metadata": {
        "collapsed": true,
        "id": "jJSzEu1mj6ec",
        "jupyter": {
          "outputs_hidden": true
        }
      },
      "outputs": [],
      "source": [
        "class ELU(Module):\n",
        "    def __init__(self, alpha = 1.0):\n",
        "        super(ELU, self).__init__()\n",
        "\n",
        "        self.alpha = alpha\n",
        "\n",
        "    def updateOutput(self, input):\n",
        "        # Your code goes here. ################################################\n",
        "        self.output = np.where(input > 0, input, self.alpha * (np.exp(input) - 1))\n",
        "        return  self.output\n",
        "\n",
        "    def updateGradInput(self, input, gradOutput):\n",
        "        # Your code goes here. ################################################\n",
        "        self.gradInput = np.where(input > 0, gradOutput, gradOutput * self.alpha * np.exp(input))\n",
        "        return self.gradInput\n",
        "\n",
        "    def __repr__(self):\n",
        "        return \"ELU\""
      ]
    },
    {
      "cell_type": "markdown",
      "metadata": {
        "id": "Gn3C7KTqj6ec"
      },
      "source": [
        "## 12. (0.1) SoftPlus\n",
        "Implement [**SoftPlus**](https://en.wikipedia.org/wiki%2FRectifier_%28neural_networks%29) activations. Look, how they look a lot like ReLU."
      ]
    },
    {
      "cell_type": "code",
      "execution_count": null,
      "metadata": {
        "collapsed": true,
        "id": "xcDPMssrj6ec",
        "jupyter": {
          "outputs_hidden": true
        }
      },
      "outputs": [],
      "source": [
        "class SoftPlus(Module):\n",
        "    def __init__(self):\n",
        "        super(SoftPlus, self).__init__()\n",
        "\n",
        "    def updateOutput(self, input):\n",
        "        # Your code goes here. ################################################\n",
        "        self.output = np.log(1 + np.exp(input))\n",
        "        return  self.output\n",
        "\n",
        "    def updateGradInput(self, input, gradOutput):\n",
        "        # Your code goes here. ################################################\n",
        "        self.gradInput = gradOutput / (1 + np.exp(-input))\n",
        "        return self.gradInput\n",
        "\n",
        "    def __repr__(self):\n",
        "        return \"SoftPlus\""
      ]
    },
    {
      "cell_type": "markdown",
      "metadata": {
        "id": "kw3PeZjOuo0e"
      },
      "source": [
        "#13. (0.2) Gelu\n",
        "Implement [**Gelu**](https://pytorch.org/docs/stable/generated/torch.nn.GELU.html) activations."
      ]
    },
    {
      "cell_type": "code",
      "execution_count": null,
      "metadata": {
        "id": "SdieE0Dtuo8j"
      },
      "outputs": [],
      "source": [
        "from scipy.special import erf\n",
        "\n",
        "class Gelu(Module):\n",
        "    def __init__(self):\n",
        "        super(Gelu, self).__init__()\n",
        "\n",
        "    def updateOutput(self, input):\n",
        "        # Используем точную формулу через erf как в PyTorch\n",
        "        self.output = input * 0.5 * (1.0 + erf(input / np.sqrt(2.0)))\n",
        "        return self.output\n",
        "\n",
        "    def updateGradInput(self, input, gradOutput):\n",
        "        # Точная производная функции GELU через erf\n",
        "        x = input\n",
        "        sqrt_2 = np.sqrt(2.0)\n",
        "        erf_term = erf(x / sqrt_2)\n",
        "        pdf_term = np.exp(-0.5 * x**2) / np.sqrt(2.0 * np.pi)\n",
        "        derivative = 0.5 * (1 + erf_term) + x * pdf_term\n",
        "        self.gradInput = gradOutput * derivative\n",
        "        return self.gradInput\n",
        "\n",
        "    def __repr__(self):\n",
        "        return \"Gelu\""
      ]
    },
    {
      "cell_type": "markdown",
      "metadata": {
        "id": "55p7UvPAj6ec"
      },
      "source": [
        "# Criterions"
      ]
    },
    {
      "cell_type": "markdown",
      "metadata": {
        "id": "5NFaxZaqj6ec"
      },
      "source": [
        "Criterions are used to score the models answers."
      ]
    },
    {
      "cell_type": "code",
      "execution_count": null,
      "metadata": {
        "id": "XGu45A8qj6ec"
      },
      "outputs": [],
      "source": [
        "class Criterion(object):\n",
        "    def __init__ (self):\n",
        "        self.output = None\n",
        "        self.gradInput = None\n",
        "\n",
        "    def forward(self, input, target):\n",
        "        \"\"\"\n",
        "            Given an input and a target, compute the loss function\n",
        "            associated to the criterion and return the result.\n",
        "\n",
        "            For consistency this function should not be overrided,\n",
        "            all the code goes in `updateOutput`.\n",
        "        \"\"\"\n",
        "        return self.updateOutput(input, target)\n",
        "\n",
        "    def backward(self, input, target):\n",
        "        \"\"\"\n",
        "            Given an input and a target, compute the gradients of the loss function\n",
        "            associated to the criterion and return the result.\n",
        "\n",
        "            For consistency this function should not be overrided,\n",
        "            all the code goes in `updateGradInput`.\n",
        "        \"\"\"\n",
        "        return self.updateGradInput(input, target)\n",
        "\n",
        "    def updateOutput(self, input, target):\n",
        "        \"\"\"\n",
        "        Function to override.\n",
        "        \"\"\"\n",
        "        return self.output\n",
        "\n",
        "    def updateGradInput(self, input, target):\n",
        "        \"\"\"\n",
        "        Function to override.\n",
        "        \"\"\"\n",
        "        return self.gradInput\n",
        "\n",
        "    def __repr__(self):\n",
        "        \"\"\"\n",
        "        Pretty printing. Should be overrided in every module if you want\n",
        "        to have readable description.\n",
        "        \"\"\"\n",
        "        return \"Criterion\""
      ]
    },
    {
      "cell_type": "markdown",
      "metadata": {
        "id": "WuU26xkpj6ec"
      },
      "source": [
        "The **MSECriterion**, which is basic L2 norm usually used for regression, is implemented here for you.\n",
        "- input:   **`batch_size x n_feats`**\n",
        "- target: **`batch_size x n_feats`**\n",
        "- output: **scalar**"
      ]
    },
    {
      "cell_type": "code",
      "execution_count": null,
      "metadata": {
        "id": "-i3VNuHhj6ec"
      },
      "outputs": [],
      "source": [
        "class MSECriterion(Criterion):\n",
        "    def __init__(self):\n",
        "        super(MSECriterion, self).__init__()\n",
        "\n",
        "    def updateOutput(self, input, target):\n",
        "        self.output = np.sum(np.power(input - target,2)) / input.shape[0]\n",
        "        return self.output\n",
        "\n",
        "    def updateGradInput(self, input, target):\n",
        "        self.gradInput  = (input - target) * 2 / input.shape[0]\n",
        "        return self.gradInput\n",
        "\n",
        "    def __repr__(self):\n",
        "        return \"MSECriterion\""
      ]
    },
    {
      "cell_type": "markdown",
      "metadata": {
        "id": "x8LKLWNVj6ec"
      },
      "source": [
        "## 14. (0.2) Negative LogLikelihood criterion (numerically unstable)\n",
        "You task is to implement the **ClassNLLCriterion**. It should implement [multiclass log loss](http://scikit-learn.org/stable/modules/model_evaluation.html#log-loss). Nevertheless there is a sum over `y` (target) in that formula,\n",
        "remember that targets are one-hot encoded. This fact simplifies the computations a lot. Note, that criterions are the only places, where you divide by batch size. Also there is a small hack with adding small number to probabilities to avoid computing log(0).\n",
        "- input:   **`batch_size x n_feats`** - probabilities\n",
        "- target: **`batch_size x n_feats`** - one-hot representation of ground truth\n",
        "- output: **scalar**\n",
        "\n"
      ]
    },
    {
      "cell_type": "code",
      "execution_count": null,
      "metadata": {
        "id": "die7KvW6j6ec"
      },
      "outputs": [],
      "source": [
        "class ClassNLLCriterionUnstable(Criterion):\n",
        "    EPS = 1e-15\n",
        "    def __init__(self):\n",
        "        a = super(ClassNLLCriterionUnstable, self)\n",
        "        super(ClassNLLCriterionUnstable, self).__init__()\n",
        "\n",
        "    def updateOutput(self, input, target):\n",
        "\n",
        "        # Use this trick to avoid numerical errors\n",
        "        input_clamp = np.clip(input, self.EPS, 1 - self.EPS)\n",
        "\n",
        "        # Your code goes here. ################################################\n",
        "        self.output = -np.sum(target * np.log(input_clamp)) / input.shape[0]\n",
        "        return self.output\n",
        "\n",
        "    def updateGradInput(self, input, target):\n",
        "\n",
        "        # Use this trick to avoid numerical errors\n",
        "        input_clamp = np.clip(input, self.EPS, 1 - self.EPS)\n",
        "\n",
        "        # Your code goes here. ################################################\n",
        "        self.gradInput = -target / (input_clamp * input.shape[0])\n",
        "        return self.gradInput\n",
        "\n",
        "    def __repr__(self):\n",
        "        return \"ClassNLLCriterionUnstable\""
      ]
    },
    {
      "cell_type": "markdown",
      "metadata": {
        "id": "uHr_JbU5j6ec"
      },
      "source": [
        "## 15. (0.3) Negative LogLikelihood criterion (numerically stable)\n",
        "- input:   **`batch_size x n_feats`** - log probabilities\n",
        "- target: **`batch_size x n_feats`** - one-hot representation of ground truth\n",
        "- output: **scalar**\n",
        "\n",
        "Task is similar to the previous one, but now the criterion input is the output of log-softmax layer. This decomposition allows us to avoid problems with computation of forward and backward of log()."
      ]
    },
    {
      "cell_type": "code",
      "execution_count": null,
      "metadata": {
        "collapsed": true,
        "id": "v7N8bVP9j6ec",
        "jupyter": {
          "outputs_hidden": true
        }
      },
      "outputs": [],
      "source": [
        "class ClassNLLCriterion(Criterion):\n",
        "    def __init__(self):\n",
        "        a = super(ClassNLLCriterion, self)\n",
        "        super(ClassNLLCriterion, self).__init__()\n",
        "\n",
        "    def updateOutput(self, input, target):\n",
        "        # Your code goes here. ################################################\n",
        "        self.output = (-np.sum(target * input) / input.shape[0])\n",
        "        return self.output\n",
        "\n",
        "    def updateGradInput(self, input, target):\n",
        "        # Your code goes here. ################################################\n",
        "        self.gradInput = -target / input.shape[0]\n",
        "        return self.gradInput\n",
        "\n",
        "    def __repr__(self):\n",
        "        return \"ClassNLLCriterion\""
      ]
    },
    {
      "cell_type": "code",
      "execution_count": null,
      "metadata": {
        "collapsed": true,
        "id": "E-ZnhKxaj6ed",
        "jupyter": {
          "outputs_hidden": true
        }
      },
      "outputs": [],
      "source": []
    },
    {
      "cell_type": "markdown",
      "metadata": {
        "id": "TC2Bf1PP2Ios"
      },
      "source": [
        "1-я часть задания: реализация слоев, лосей и функций активации - 5 баллов. \\\\\n",
        "2-я часть задания: реализация моделей на своих классах. Что должно быть:\n",
        "  1. Выберите оптимизатор и реализуйте его, чтоб он работал с вами классами. - 1 балл.\n",
        "  2. Модель для задачи мультирегрессии на выбраных вами данных. Использовать FCNN, dropout, batchnorm, MSE. Пробуйте различные фукнции активации. Для первой модели попробуйте большую, среднюю и маленькую модель. - 1 балл.\n",
        "  3. Модель для задачи мультиклассификации на MNIST. Использовать свёртки, макспулы, флэттэны, софтмаксы - 1 балла.\n",
        "  4. Автоэнкодер для выбранных вами данных. Должен быть на свёртках и полносвязных слоях, дропаутах, батчнормах и тд. - 2 балла. \\\\\n",
        "\n",
        "Дополнительно в оценке каждой модели будет учитываться:\n",
        "1. Наличие правильно выбранной метрики и лосс функции.\n",
        "2. Отрисовка графиков лосей и метрик на трейне-валидации. Проверка качества модели на тесте.\n",
        "3. Наличие шедулера для lr.\n",
        "4. Наличие вормапа.\n",
        "5. Наличие механизма ранней остановки и сохранение лучшей модели.\n",
        "6. Свитч лося (метрики) и оптимайзера."
      ]
    },
    {
      "cell_type": "code",
      "execution_count": null,
      "metadata": {
        "id": "Aq0X5QV55ZH4"
      },
      "outputs": [],
      "source": []
    }
  ],
  "metadata": {
    "colab": {
      "provenance": []
    },
    "kernelspec": {
      "display_name": "Python 3 (ipykernel)",
      "language": "python",
      "name": "python3"
    },
    "language_info": {
      "codemirror_mode": {
        "name": "ipython",
        "version": 3
      },
      "file_extension": ".py",
      "mimetype": "text/x-python",
      "name": "python",
      "nbconvert_exporter": "python",
      "pygments_lexer": "ipython3",
      "version": "3.12.7"
    }
  },
  "nbformat": 4,
  "nbformat_minor": 0
}